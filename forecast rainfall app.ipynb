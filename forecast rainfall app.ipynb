{
 "cells": [
  {
   "cell_type": "code",
   "execution_count": 9,
   "id": "57e7052a-5c35-432e-a153-8c9d38186077",
   "metadata": {},
   "outputs": [],
   "source": [
    "import streamlit as st\n",
    "import pandas as pd\n",
    "import plotly.express as px\n",
    "import json"
   ]
  },
  {
   "cell_type": "code",
   "execution_count": 10,
   "id": "b970cee1-5736-4b17-8d3a-51afdbeffedb",
   "metadata": {},
   "outputs": [
    {
     "data": {
      "text/html": [
       "<div>\n",
       "<style scoped>\n",
       "    .dataframe tbody tr th:only-of-type {\n",
       "        vertical-align: middle;\n",
       "    }\n",
       "\n",
       "    .dataframe tbody tr th {\n",
       "        vertical-align: top;\n",
       "    }\n",
       "\n",
       "    .dataframe thead th {\n",
       "        text-align: right;\n",
       "    }\n",
       "</style>\n",
       "<table border=\"1\" class=\"dataframe\">\n",
       "  <thead>\n",
       "    <tr style=\"text-align: right;\">\n",
       "      <th></th>\n",
       "      <th>date</th>\n",
       "      <th>state_name</th>\n",
       "      <th>predicted_rainfall</th>\n",
       "    </tr>\n",
       "  </thead>\n",
       "  <tbody>\n",
       "    <tr>\n",
       "      <th>0</th>\n",
       "      <td>2024-04-01</td>\n",
       "      <td>Uttarakhand</td>\n",
       "      <td>41.871567</td>\n",
       "    </tr>\n",
       "    <tr>\n",
       "      <th>1</th>\n",
       "      <td>2024-05-01</td>\n",
       "      <td>Uttarakhand</td>\n",
       "      <td>70.338210</td>\n",
       "    </tr>\n",
       "    <tr>\n",
       "      <th>2</th>\n",
       "      <td>2024-06-01</td>\n",
       "      <td>Uttarakhand</td>\n",
       "      <td>164.263800</td>\n",
       "    </tr>\n",
       "    <tr>\n",
       "      <th>3</th>\n",
       "      <td>2024-07-01</td>\n",
       "      <td>Uttarakhand</td>\n",
       "      <td>411.766600</td>\n",
       "    </tr>\n",
       "    <tr>\n",
       "      <th>4</th>\n",
       "      <td>2024-08-01</td>\n",
       "      <td>Uttarakhand</td>\n",
       "      <td>546.646400</td>\n",
       "    </tr>\n",
       "  </tbody>\n",
       "</table>\n",
       "</div>"
      ],
      "text/plain": [
       "         date   state_name  predicted_rainfall\n",
       "0  2024-04-01  Uttarakhand           41.871567\n",
       "1  2024-05-01  Uttarakhand           70.338210\n",
       "2  2024-06-01  Uttarakhand          164.263800\n",
       "3  2024-07-01  Uttarakhand          411.766600\n",
       "4  2024-08-01  Uttarakhand          546.646400"
      ]
     },
     "execution_count": 10,
     "metadata": {},
     "output_type": "execute_result"
    }
   ],
   "source": [
    "df = pd.read_csv(\"forecast_results.csv\")\n",
    "df.head()"
   ]
  },
  {
   "cell_type": "code",
   "execution_count": 11,
   "id": "54b92b11-48f1-4e8e-9acb-fc98571b8231",
   "metadata": {},
   "outputs": [],
   "source": [
    "csv_states = df['state_name'].unique()"
   ]
  },
  {
   "cell_type": "code",
   "execution_count": 12,
   "id": "9973b04d-6794-483c-862e-6cfdf8f7effd",
   "metadata": {},
   "outputs": [],
   "source": [
    "with open(\"india_states.geojson\", \"r\") as f:\n",
    "        india_states = json.load(f)"
   ]
  },
  {
   "cell_type": "code",
   "execution_count": 13,
   "id": "d1c4d6c9-0419-48aa-896d-4b183ecda8f1",
   "metadata": {},
   "outputs": [],
   "source": [
    "state_names = [feature['properties']['st_nm'] for feature in india_states['features']]"
   ]
  },
  {
   "cell_type": "code",
   "execution_count": 14,
   "id": "7fd2c83d-92be-4ec6-914d-c193ba123fc0",
   "metadata": {
    "scrolled": true
   },
   "outputs": [],
   "source": [
    "unique_states = list(set(state_names))"
   ]
  },
  {
   "cell_type": "code",
   "execution_count": 18,
   "id": "0058787a-631f-4f69-a288-8a9aefdcb230",
   "metadata": {},
   "outputs": [
    {
     "name": "stdout",
     "output_type": "stream",
     "text": [
      "['Uttarakhand' 'Assam' 'Tripura' 'Telangana' 'Himachal Pradesh'\n",
      " 'Jammu And Kashmir' 'Maharashtra' 'Punjab' 'Andhra Pradesh'\n",
      " 'Arunachal Pradesh' 'Uttar Pradesh' 'Haryana' 'Madhya Pradesh' 'Manipur'\n",
      " 'Karnataka' 'Chandigarh' 'West Bengal' 'Rajasthan' 'Chhattisgarh'\n",
      " 'Nagaland' 'Bihar' 'Puducherry' 'Gujarat' 'Odisha' 'Tamil Nadu' 'Kerala'\n",
      " 'Sikkim' 'Delhi' 'Mizoram' 'Jharkhand' 'Meghalaya' 'Goa'\n",
      " 'The Dadra And Nagar Haveli And Daman And Diu']\n",
      "['Karnataka', 'Odisha', 'Uttarakhand', 'Rajasthan', 'Bihar', 'Assam', 'Himachal Pradesh', 'Mizoram', 'Madhya Pradesh', 'Jharkhand', 'Daman and Diu', 'Gujarat', 'West Bengal', 'Ladakh', 'Sikkim', 'Goa', 'Meghalaya', 'Lakshadweep', 'Arunachal Pradesh', 'Puducherry', 'Dadra and Nagar Haveli', 'Telangana', 'Tamil Nadu', 'Andhra Pradesh', 'Chhattisgarh', 'Delhi', 'Jammu and Kashmir', 'Punjab', 'Kerala', 'Manipur', 'Chandigarh', 'Andaman and Nicobar Islands', 'Tripura', 'Haryana', 'Nagaland', 'Uttar Pradesh', 'Maharashtra']\n"
     ]
    }
   ],
   "source": [
    "print(csv_states)\n",
    "print(unique_states)"
   ]
  },
  {
   "cell_type": "code",
   "execution_count": 19,
   "id": "a6dc0817-0bbe-4a55-9d79-9933fe621628",
   "metadata": {},
   "outputs": [],
   "source": [
    "# by analysing this we can see that we need a bit cleaning in csv states\n",
    "# 'Andaman and Nicobar Islands' and 'Lakshadweep','Ladakh' has no rainfall values in csv\n",
    "# need to replace 'Jammu And Kashmir' with 'Jammu and Kashmir'"
   ]
  },
  {
   "cell_type": "code",
   "execution_count": 21,
   "id": "7af64433-d67f-45d2-a0ca-8ff7f33e6ec7",
   "metadata": {},
   "outputs": [],
   "source": [
    "# Standardize state names to mach with the state names in geojson file\n",
    "df[\"state_name\"] = df[\"state_name\"].replace({\"Jammu And Kashmir\": \"Jammu and Kashmir\"})\n",
    "\n",
    "# Split merged UT into two separate rows\n",
    "merged_ut = \"The Dadra And Nagar Haveli And Daman And Diu\"\n",
    "ut_rows = df[df[\"state_name\"] == merged_ut]\n",
    "ut_rows_dadra = ut_rows.copy(); ut_rows_dadra[\"state_name\"] = \"Dadra and Nagar Haveli\"\n",
    "ut_rows_daman = ut_rows.copy(); ut_rows_daman[\"state_name\"] = \"Daman and Diu\"\n",
    "df = df[df[\"state_name\"] != merged_ut]\n",
    "df = pd.concat([df, ut_rows_dadra, ut_rows_daman], ignore_index=True)"
   ]
  },
  {
   "cell_type": "code",
   "execution_count": null,
   "id": "c0accd78-a192-4de5-9f37-d0170e0cd992",
   "metadata": {},
   "outputs": [],
   "source": []
  }
 ],
 "metadata": {
  "kernelspec": {
   "display_name": "Python [conda env:base] *",
   "language": "python",
   "name": "conda-base-py"
  },
  "language_info": {
   "codemirror_mode": {
    "name": "ipython",
    "version": 3
   },
   "file_extension": ".py",
   "mimetype": "text/x-python",
   "name": "python",
   "nbconvert_exporter": "python",
   "pygments_lexer": "ipython3",
   "version": "3.12.7"
  }
 },
 "nbformat": 4,
 "nbformat_minor": 5
}
